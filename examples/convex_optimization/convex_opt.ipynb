{
 "cells": [
  {
   "cell_type": "code",
   "execution_count": 1,
   "metadata": {},
   "outputs": [],
   "source": [
    "import numpy as np\n",
    "import os\n",
    "\n",
    "from llmize import OPRO, HLMEA, HLMSA\n",
    "import llmize"
   ]
  },
  {
   "cell_type": "code",
   "execution_count": 2,
   "metadata": {},
   "outputs": [],
   "source": [
    "def objective_convex_penalty(x):\n",
    "    \"\"\"\n",
    "    Objective function for the Convex Optimization problem with penalties.\n",
    "    The function is minimized.\n",
    "    \"\"\"\n",
    "    x1, x2 = x\n",
    "    f = (x1 - 3)**2 + (x2 + 2)**2 + np.sin(x1 + x2) + 4\n",
    "    \n",
    "    # Constraint violations\n",
    "    penalty = 0\n",
    "    large_penalty = 1e6  # Large penalty value\n",
    "\n",
    "    if x1 < 0 or x1 > 5:\n",
    "        penalty += large_penalty\n",
    "    if x2 < 0 or x2 > 5:\n",
    "        penalty += large_penalty\n",
    "\n",
    "    return f + penalty"
   ]
  },
  {
   "cell_type": "code",
   "execution_count": 3,
   "metadata": {},
   "outputs": [
    {
     "name": "stdout",
     "output_type": "stream",
     "text": [
      "[[np.float64(0.0), np.float64(0.0)], [np.float64(0.0), np.float64(1.0)], [np.float64(0.0), np.float64(2.0)], [np.float64(0.0), np.float64(3.0)], [np.float64(1.0), np.float64(0.0)], [np.float64(1.0), np.float64(1.0)], [np.float64(1.0), np.float64(2.0)], [np.float64(1.0), np.float64(3.0)], [np.float64(2.0), np.float64(0.0)], [np.float64(2.0), np.float64(1.0)], [np.float64(2.0), np.float64(2.0)], [np.float64(2.0), np.float64(3.0)], [np.float64(3.0), np.float64(0.0)], [np.float64(3.0), np.float64(1.0)], [np.float64(3.0), np.float64(2.0)], [np.float64(3.0), np.float64(3.0)]]\u001b[0m\n",
      "\u001b[0m[np.float64(17.0), np.float64(22.841470984807895), np.float64(29.90929742682568), np.float64(38.141120008059865), np.float64(12.841470984807897), np.float64(17.90929742682568), np.float64(24.14112000805987), np.float64(32.24319750469208), np.float64(9.909297426825681), np.float64(14.141120008059866), np.float64(20.243197504692073), np.float64(29.04107572533686), np.float64(8.141120008059868), np.float64(12.243197504692072), np.float64(19.04107572533686), np.float64(28.720584501801074)]\u001b[0m\n",
      "\u001b[0m16\u001b[0m \u001b[0m16\u001b[0m\n",
      "\u001b[0m"
     ]
    }
   ],
   "source": [
    "# Generate random solutions (list of lists) and scores (list of floats)\n",
    "num_samples = 4\n",
    "batch_size = num_samples**2\n",
    "x1_range = np.linspace(0, 4.5, num_samples)\n",
    "x2_range = np.linspace(0, 4.5, num_samples)\n",
    "solutions = []\n",
    "scores = []\n",
    "for i in range(num_samples):\n",
    "    for j in range(num_samples):\n",
    "        solutions.append([x1_range[i], x2_range[j]])\n",
    "        scores.append(objective_convex_penalty([x1_range[i], x2_range[j]]))\n",
    "\n",
    "print(solutions)\n",
    "print(scores)\n",
    "print(len(solutions), len(scores))"
   ]
  },
  {
   "cell_type": "code",
   "execution_count": 4,
   "metadata": {},
   "outputs": [
    {
     "name": "stdout",
     "output_type": "stream",
     "text": [
      "======================================================================================================================================================\u001b[0m\n",
      "\u001b[0mPrompt:\u001b[0m\n",
      "\u001b[0mProblem: Convex Optimization\n",
      "-----------------------------------------------------\n",
      "Objective: Minimize the function\n",
      "    f(x1, x2) = (x1 - 3)^2 + (x2 + 2)^2 + sin(x1 + x2) + 4\n",
      "\n",
      "Subject to constraints:\n",
      "    0 ≤ x1 ≤ 5\n",
      "    0 ≤ x2 ≤ 5\n",
      "Below are some examples of solutions and their scores:\n",
      "\n",
      "<sol> 0.0,0.0 <\\sol>\n",
      "score: 17.00\n",
      "\n",
      "<sol> 0.0,1.0 <\\sol>\n",
      "score: 22.84\n",
      "\n",
      "<sol> 0.0,2.0 <\\sol>\n",
      "score: 29.91\n",
      "\n",
      "<sol> 0.0,3.0 <\\sol>\n",
      "score: 38.14\n",
      "\n",
      "<sol> 1.0,0.0 <\\sol>\n",
      "score: 12.84\n",
      "\n",
      "<sol> 1.0,1.0 <\\sol>\n",
      "score: 17.91\n",
      "\n",
      "<sol> 1.0,2.0 <\\sol>\n",
      "score: 24.14\n",
      "\n",
      "<sol> 1.0,3.0 <\\sol>\n",
      "score: 32.24\n",
      "\n",
      "<sol> 2.0,0.0 <\\sol>\n",
      "score: 9.91\n",
      "\n",
      "<sol> 2.0,1.0 <\\sol>\n",
      "score: 14.14\n",
      "\n",
      "<sol> 2.0,2.0 <\\sol>\n",
      "score: 20.24\n",
      "\n",
      "<sol> 2.0,3.0 <\\sol>\n",
      "score: 29.04\n",
      "\n",
      "<sol> 3.0,0.0 <\\sol>\n",
      "score: 8.14\n",
      "\n",
      "<sol> 3.0,1.0 <\\sol>\n",
      "score: 12.24\n",
      "\n",
      "<sol> 3.0,2.0 <\\sol>\n",
      "score: 19.04\n",
      "\n",
      "<sol> 3.0,3.0 <\\sol>\n",
      "score: 28.72\n",
      "\n",
      "\n",
      "Generate exactly 5 new solutions that:\n",
      "- Are distinct from all previous solutions.\n",
      "- Have lower scores than the lowest provided.\n",
      "- Respect the relationships based on logical reasoning.\n",
      "\n",
      "Each solution should start with <sol> and end with <\\sol> with a comma between parameters.\n",
      "Make sure the length of solutions match examples given. Don't guess for the scores as they will be calculated by an objective function.\u001b[0m\n",
      "\u001b[0m\n",
      "\u001b[0mResponse:\u001b[0m\n",
      "\u001b[0mBased on the provided data, the lowest score is 8.14, achieved at x1=3.0 and x2=0.0. The function includes a term (x1 - 3)^2, which is minimized when\n",
      "x1 is close to 3. The term (x2 + 2)^2 is minimized when x2 is close to -2. However, x2 must be between 0 and 5. The term sin(x1 + x2) can be negative.\n",
      "To achieve a score below 8.14, we should explore values of x1 near 3 and values of x2 near 0, and try to get a negative value for sin(x1 + x2).\n",
      "\n",
      "Here are five new solutions that meet the criteria:\n",
      "\n",
      "<sol> 3.0,0.5 </sol>\n",
      "<sol> 2.5,0.0 </sol>\n",
      "<sol> 3.5,0.0 </sol>\n",
      "<sol> 2.8,0.2 </sol>\n",
      "<sol> 3.2,0.1 </sol>\u001b[0m\n",
      "\u001b[0m======================================================================================================================================================\u001b[0m\n",
      "\u001b[0m"
     ]
    }
   ],
   "source": [
    "with open(\"convex_problem.txt\", \"r\") as f:\n",
    "    problem_text = f.read()\n",
    "\n",
    "# Initialize the OPRO optimizer\n",
    "opro = OPRO(problem_text=problem_text, obj_func=objective_convex_penalty,\n",
    "            llm_model=\"gemini-2.0-flash\", api_key=os.getenv(\"GEMINI_API_KEY\"))\n",
    "\n",
    "prompt = opro.get_sample_prompt(init_samples=solutions, init_scores=scores, optimization_type=\"minimize\")\n",
    "response = opro.get_sample_response(prompt)\n",
    "\n",
    "llmize.utils.pretty_print(prompt=prompt, response=response)"
   ]
  },
  {
   "cell_type": "code",
   "execution_count": 5,
   "metadata": {},
   "outputs": [],
   "source": [
    "from llmize.callbacks import EarlyStopping, AdaptTempOnPlateau, OptimalScoreStopping\n",
    "\n",
    "# Define the early stopping callback\n",
    "earlystop_callback = EarlyStopping(monitor='best_score', min_delta=0.001, patience=50, verbose=1)\n",
    "\n",
    "# Define the optimal score stopping callback\n",
    "optimal_score_callback = OptimalScoreStopping(optimal_score=7.90, tolerance=0.01)\n",
    "\n",
    "# Define the temperature adaptation callback\n",
    "adapt_temp_callback = AdaptTempOnPlateau(monitor='best_score', init_temperature=1.0, min_delta=0.001, patience=20, factor=1.1, max_temperature=1.9, verbose=1)\n",
    "\n",
    "callbacks = [earlystop_callback, optimal_score_callback, adapt_temp_callback]"
   ]
  },
  {
   "cell_type": "code",
   "execution_count": 6,
   "metadata": {},
   "outputs": [
    {
     "name": "stderr",
     "output_type": "stream",
     "text": [
      "\u001b[37mRunning OPRO optimization with 250 steps and batch size 16...\u001b[0m\n",
      "\u001b[0m\u001b[37mStep 0 - Best Initial Score: 8.14, Average Initial Score: 21.03\u001b[0m\n",
      "\u001b[0m\u001b[37mStep 1 - Current Best Score: 7.90, Average Batch Score: 8.68 - Best Batch Score: 7.90\u001b[0m\n",
      "\u001b[0m\u001b[37mNo improvement in best_score. Patience count: 1/50\u001b[0m\n",
      "\u001b[0m\u001b[33mWARNING - Optimal score reached at step 1.\u001b[0m\n",
      "\u001b[0m\u001b[33mWARNING - Optimal score reached at step 1.\u001b[0m\n",
      "\u001b[0m\u001b[37mExecution time of minimize: 1.968 seconds\u001b[0m\n",
      "\u001b[0m"
     ]
    }
   ],
   "source": [
    "results = opro.minimize(init_samples=solutions, init_scores=scores, num_steps=250, batch_size=16, callbacks=callbacks)\n"
   ]
  },
  {
   "cell_type": "code",
   "execution_count": null,
   "metadata": {},
   "outputs": [],
   "source": []
  }
 ],
 "metadata": {
  "kernelspec": {
   "display_name": "genai_env",
   "language": "python",
   "name": "python3"
  },
  "language_info": {
   "codemirror_mode": {
    "name": "ipython",
    "version": 3
   },
   "file_extension": ".py",
   "mimetype": "text/x-python",
   "name": "python",
   "nbconvert_exporter": "python",
   "pygments_lexer": "ipython3",
   "version": "3.12.9"
  }
 },
 "nbformat": 4,
 "nbformat_minor": 2
}
