{
 "cells": [
  {
   "cell_type": "code",
   "execution_count": 8,
   "metadata": {},
   "outputs": [],
   "source": [
    "import numpy as np\n",
    "\n",
    "\n",
    "from llmize import OPRO\n",
    "import llmize\n",
    "import os\n"
   ]
  },
  {
   "cell_type": "code",
   "execution_count": 5,
   "metadata": {},
   "outputs": [],
   "source": [
    "def lp_maximization_problem(x):\n",
    "    \"\"\"\n",
    "    Linear Programming maximization problem with penalty constraints.\n",
    "    \n",
    "    Args:\n",
    "        x (list or numpy array): Decision variables [x1, x2, x3]\n",
    "    \n",
    "    Returns:\n",
    "        float: Penalized objective function value (to be maximized)\n",
    "    \"\"\"\n",
    "    x1, x2, x3 = x\n",
    "    # Objective Function (Maximize Z)\n",
    "    Z = 3*x1 + 4*x2 + 6*x3  # No negation since we maximize directly\n",
    "\n",
    "    # Define a large penalty for constraint violations\n",
    "    penalty = 0\n",
    "    large_penalty = -1e2  # Large NEGATIVE penalty (to push infeasible solutions down)\n",
    "\n",
    "    # Constraints\n",
    "    if 2*x1 + 3*x2 + x3 > 15:  # Resource 1 constraint\n",
    "        penalty += large_penalty\n",
    "    if x1 + 2*x2 + 3*x3 > 20:  # Resource 2 constraint\n",
    "        penalty += large_penalty\n",
    "    if 4*x1 + x2 + 2*x3 > 16:  # Resource 3 constraint\n",
    "        penalty += large_penalty\n",
    "    if x1 < 0 or x2 < 0 or x3 < 0:  # Non-negativity constraints\n",
    "        penalty += large_penalty\n",
    "\n",
    "    return Z + penalty  # Maximize Z while discouraging violations"
   ]
  },
  {
   "cell_type": "code",
   "execution_count": 7,
   "metadata": {},
   "outputs": [
    {
     "name": "stdout",
     "output_type": "stream",
     "text": [
      "[array([9.93, 3.9 , 7.87]), array([7.37, 0.18, 2.79]), array([6.41, 2.78, 7.47]), array([4.73, 0.72, 5.33]), array([0.7 , 4.36, 2.83]), array([4.44, 4.14, 1.46]), array([6.39, 1.13, 1.88]), array([1.25, 9.61, 1.73]), array([7.52, 4.78, 7.49]), array([5.18, 7.58, 0.04]), array([6.86, 2.52, 8.35]), array([0.55, 4.25, 8.77]), array([8.95, 1.56, 6.14]), array([9.57, 1.57, 4.74]), array([1.63, 7.29, 7.11]), array([1.78, 3.03, 8.21])]\n",
      "[np.float64(-207.39), np.float64(-160.43), np.float64(-224.83), np.float64(-250.95), np.float64(-63.48), np.float64(-161.36), np.float64(-165.03), np.float64(-247.43), np.float64(-213.38), np.float64(-253.9), np.float64(-219.24), np.float64(-228.73), np.float64(-230.07), np.float64(-236.57), np.float64(-223.29), np.float64(-233.28)]\n"
     ]
    }
   ],
   "source": [
    "# Generate random solutions (list of lists) and scores (list of floats)\n",
    "# Generate initial random solutions\n",
    "num_samples = 16  # Batch size\n",
    "num_vars = 3  # Number of decision variables\n",
    "#round to 2 decimal places\n",
    "init_samples = [np.round(np.random.uniform(0, 10, num_vars), 2) for _ in range(num_samples)]\n",
    "\n",
    "# Calculate scores for initial solutions, round to 2 decimal places\n",
    "init_scores = [np.round(lp_maximization_problem(x), 2) for x in init_samples]\n",
    "\n",
    "print(init_samples)\n",
    "print(init_scores)"
   ]
  },
  {
   "cell_type": "code",
   "execution_count": 10,
   "metadata": {},
   "outputs": [
    {
     "name": "stdout",
     "output_type": "stream",
     "text": [
      "======================================================================================================================================================\u001b[0m\n",
      "\u001b[0mPrompt:\u001b[0m\n",
      "\u001b[0mProblem: Linear Programming Optimization\n",
      "-----------------------------------------------------\n",
      "Objective: Maximize the function\n",
      "    Z = 3x1 + 4x2 + 6x3\n",
      "\n",
      "Subject to constraints:\n",
      "    2x1 + 3x2 + x3 ≤ 15\n",
      "    x1 + 2x2 + 3x3 ≤ 20\n",
      "    4x1 + x2 + 2x3 ≤ 16\n",
      "    x1, x2, x3 ≥ 0\n",
      "\n",
      "Below are some examples of solutions and their scores:\n",
      "\n",
      "<sol> 9.93,3.9,7.87 <\\sol>\n",
      "score: -207.39\n",
      "\n",
      "<sol> 7.37,0.18,2.79 <\\sol>\n",
      "score: -160.43\n",
      "\n",
      "<sol> 6.41,2.78,7.47 <\\sol>\n",
      "score: -224.83\n",
      "\n",
      "<sol> 4.73,0.72,5.33 <\\sol>\n",
      "score: -250.95\n",
      "\n",
      "<sol> 0.7,4.36,2.83 <\\sol>\n",
      "score: -63.48\n",
      "\n",
      "<sol> 4.44,4.14,1.46 <\\sol>\n",
      "score: -161.36\n",
      "\n",
      "<sol> 6.39,1.13,1.88 <\\sol>\n",
      "score: -165.03\n",
      "\n",
      "<sol> 1.25,9.61,1.73 <\\sol>\n",
      "score: -247.43\n",
      "\n",
      "<sol> 7.52,4.78,7.49 <\\sol>\n",
      "score: -213.38\n",
      "\n",
      "<sol> 5.18,7.58,0.04 <\\sol>\n",
      "score: -253.90\n",
      "\n",
      "<sol> 6.86,2.52,8.35 <\\sol>\n",
      "score: -219.24\n",
      "\n",
      "<sol> 0.55,4.25,8.77 <\\sol>\n",
      "score: -228.73\n",
      "\n",
      "<sol> 8.95,1.56,6.14 <\\sol>\n",
      "score: -230.07\n",
      "\n",
      "<sol> 9.57,1.57,4.74 <\\sol>\n",
      "score: -236.57\n",
      "\n",
      "<sol> 1.63,7.29,7.11 <\\sol>\n",
      "score: -223.29\n",
      "\n",
      "<sol> 1.78,3.03,8.21 <\\sol>\n",
      "score: -233.28\n",
      "\n",
      "\n",
      "Generate exactly 5 new solutions that:\n",
      "- Are distinct from all previous solutions.\n",
      "- Have higher scores than the highest provided.\n",
      "- Respect the relationships based on logical reasoning.\n",
      "\n",
      "Each solution should start with <sol> and end with <\\sol> with a comma between parameters.\n",
      "Make sure the length of solutions match examples given. Don't guess for the scores as they will be calculated by an objective function.\u001b[0m\n",
      "\u001b[0m\n",
      "\u001b[0mResponse:\u001b[0m\n",
      "\u001b[0mBased on the objective function and constraints, we want to find x1, x2, and x3 values that maximize 3x1 + 4x2 + 6x3 while staying within the bounds\n",
      "of the constraints. Since the provided scores are negative, higher scores mean values closer to 0 (less negative).  The solutions with values for x3\n",
      "being higher seem to lead to lower (more negative) scores overall, while moderate values for x2 and x1 seem better. Also, the upper bounds on each\n",
      "variable are constrained by the inequality conditions. I will attempt to exploit this by favoring smaller increases to `x2` while limiting the growth\n",
      "of `x3`.\n",
      "```\n",
      "<sol> 1.00,4.50,2.50 </sol>\n",
      "<sol> 2.00,4.00,3.00 </sol>\n",
      "<sol> 0.50,5.00,2.00 </sol>\n",
      "<sol> 1.50,3.50,3.50 </sol>\n",
      "<sol> 2.50,3.00,2.50 </sol>\n",
      "```\u001b[0m\n",
      "\u001b[0m======================================================================================================================================================\u001b[0m\n",
      "\u001b[0m"
     ]
    }
   ],
   "source": [
    "with open(\"lp_problem.txt\", \"r\") as f:\n",
    "    problem_text = f.read()\n",
    "\n",
    "# Initialize the OPRO optimizer\n",
    "opro = OPRO(problem_text=problem_text, obj_func=lp_maximization_problem,\n",
    "            llm_model=\"gemini-2.0-flash\", api_key=os.getenv(\"GEMINI_API_KEY\"))\n",
    "\n",
    "prompt = opro.get_sample_prompt(init_samples=init_samples, init_scores=init_scores, optimization_type=\"maximize\")\n",
    "response = opro.get_sample_response(prompt)\n",
    "\n",
    "llmize.utils.pretty_print(prompt=prompt, response=response)"
   ]
  },
  {
   "cell_type": "code",
   "execution_count": null,
   "metadata": {},
   "outputs": [],
   "source": [
    "from llmize.callbacks import EarlyStopping, AdaptTempOnPlateau, OptimalScoreStopping\n",
    "\n",
    "# Define the early stopping callback\n",
    "earlystop_callback = EarlyStopping(monitor='best_score', min_delta=0.001, patience=50, verbose=1)\n",
    "\n",
    "# Define the optimal score stopping callback\n",
    "optimal_score_callback = OptimalScoreStopping(optimal_score=41.08, tolerance=0.01)\n",
    "\n",
    "# Define the temperature adaptation callback\n",
    "adapt_temp_callback = AdaptTempOnPlateau(monitor='best_score', init_temperature=1.0, min_delta=0.001, patience=20, factor=1.1, max_temperature=1.9, verbose=1)\n",
    "\n",
    "callbacks = [earlystop_callback, optimal_score_callback, adapt_temp_callback]"
   ]
  },
  {
   "cell_type": "code",
   "execution_count": null,
   "metadata": {},
   "outputs": [],
   "source": [
    "results = opro.maximize(init_samples=init_samples, init_scores=init_scores, num_steps=250, batch_size=16, callbacks=callbacks)\n"
   ]
  }
 ],
 "metadata": {
  "kernelspec": {
   "display_name": "genai_env",
   "language": "python",
   "name": "python3"
  },
  "language_info": {
   "codemirror_mode": {
    "name": "ipython",
    "version": 3
   },
   "file_extension": ".py",
   "mimetype": "text/x-python",
   "name": "python",
   "nbconvert_exporter": "python",
   "pygments_lexer": "ipython3",
   "version": "3.13.1"
  }
 },
 "nbformat": 4,
 "nbformat_minor": 2
}
